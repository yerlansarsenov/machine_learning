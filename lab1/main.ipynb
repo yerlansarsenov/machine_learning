{
 "cells": [
  {
   "cell_type": "code",
   "execution_count": 1,
   "metadata": {},
   "outputs": [],
   "source": [
    "import re as _splitter\n",
    "import numpy as np\n",
    "file = open('cats.txt')\n",
    "my_list = list(file)\n",
    "#print(my_list)"
   ]
  },
  {
   "cell_type": "code",
   "execution_count": 2,
   "metadata": {},
   "outputs": [],
   "source": [
    "my_array = []\n",
    "for line in my_list:\n",
    "    line = line.strip()\n",
    "    line = line.lower()\n",
    "    my_array.append(line)\n",
    "file.close()\n",
    "#print(my_array)"
   ]
  },
  {
   "cell_type": "code",
   "execution_count": 3,
   "metadata": {},
   "outputs": [],
   "source": [
    "l = len(my_array)\n",
    "for i in range(l):\n",
    "    my_array[i] = _splitter.split('[^a-z]', my_array[i])\n",
    "    for j in range(my_array[i].count('')):\n",
    "        my_array[i].remove('')\n",
    "#print(my_array)"
   ]
  },
  {
   "cell_type": "code",
   "execution_count": 4,
   "metadata": {},
   "outputs": [],
   "source": [
    "my_dict = {}\n",
    "index = 0\n",
    "for sents in my_array:\n",
    "    for w in sents:\n",
    "        if not (w in my_dict.keys()):\n",
    "            my_dict[w] = index\n",
    "            index = index + 1\n",
    "# print(my_dict)"
   ]
  },
  {
   "cell_type": "code",
   "execution_count": 5,
   "metadata": {},
   "outputs": [
    {
     "name": "stdout",
     "output_type": "stream",
     "text": [
      "22 254\n"
     ]
    }
   ],
   "source": [
    "n = len(my_array)\n",
    "d = len(my_dict)\n",
    "print(n, d)\n",
    "my_matrix = [ [ 0 for j in range(d) ] for i in range(n) ] \n",
    "# words = list(my_dict.keys())\n",
    "for i in range(n):\n",
    "    for j in range(d):\n",
    "        _item = ()\n",
    "        for item in my_dict.items():\n",
    "            if item[1] == j:\n",
    "                _item = item\n",
    "                break\n",
    "#         print(_item[0], \" \")\n",
    "        my_matrix[i][j] = my_array[i].count(_item[0])\n",
    "#         my_matrix[i][j] = my_array[i].count(my_dict[words[j]])\n",
    "# print(my_matrix)"
   ]
  },
  {
   "cell_type": "code",
   "execution_count": 6,
   "metadata": {},
   "outputs": [
    {
     "name": "stdout",
     "output_type": "stream",
     "text": [
      "(6, 0.7327387580875756)\n",
      "(4, 0.7770887149698589)\n"
     ]
    }
   ],
   "source": [
    "def cosine_distance(v1, v2):\n",
    "    dot_prod = np.dot(v1, v2)\n",
    "    magn1 = np.linalg.norm(v1)\n",
    "    magn2 = np.linalg.norm(v2)\n",
    "    return 1 - (dot_prod / (magn1 * magn2))\n",
    "\n",
    "min1 = (0, 1)\n",
    "min2 = (0, 1)\n",
    "for i in range(1, n):\n",
    "    cosin = cosine_distance(my_matrix[0], my_matrix[i])\n",
    "    if (cosin < min1[1]):\n",
    "        min2 = min1\n",
    "        min1 = (i, cosin)\n",
    "    elif (cosin < min2[1]):\n",
    "        min2 = (i, cosin)\n",
    "print(min1)\n",
    "print(min2)"
   ]
  },
  {
   "cell_type": "code",
   "execution_count": null,
   "metadata": {},
   "outputs": [],
   "source": []
  }
 ],
 "metadata": {
  "kernelspec": {
   "display_name": "Python 3",
   "language": "python",
   "name": "python3"
  },
  "language_info": {
   "codemirror_mode": {
    "name": "ipython",
    "version": 3
   },
   "file_extension": ".py",
   "mimetype": "text/x-python",
   "name": "python",
   "nbconvert_exporter": "python",
   "pygments_lexer": "ipython3",
   "version": "3.8.5"
  }
 },
 "nbformat": 4,
 "nbformat_minor": 4
}
