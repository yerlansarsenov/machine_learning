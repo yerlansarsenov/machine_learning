{
 "cells": [
  {
   "cell_type": "code",
   "execution_count": 9,
   "metadata": {},
   "outputs": [
    {
     "data": {
      "text/plain": [
       "11"
      ]
     },
     "execution_count": 9,
     "metadata": {},
     "output_type": "execute_result"
    }
   ],
   "source": [
    "####### task1 ##########\n",
    "class Task1:\n",
    "    def task1(n, A):\n",
    "        cnt = 0\n",
    "        for i in range(n):\n",
    "            for j in range(i+1, n):\n",
    "                if(i + A[i] >= j - A[j] and i - A[i] <= j + A[j]):\n",
    "                    cnt = cnt + 1\n",
    "        if(cnt > 10_000_000):\n",
    "            cnt = -1\n",
    "        return cnt\n",
    "\n",
    "a = Task1\n",
    "AA = [1, 5, 2, 1, 4, 0]\n",
    "a.task1(6, AA)"
   ]
  },
  {
   "cell_type": "code",
   "execution_count": 10,
   "metadata": {},
   "outputs": [
    {
     "data": {
      "text/plain": [
       "42"
      ]
     },
     "execution_count": 10,
     "metadata": {},
     "output_type": "execute_result"
    }
   ],
   "source": [
    "AAA = [5, 4, 65, 2, 9, 42, 3, 0, 54, 7]\n",
    "a.task1(10, AAA)"
   ]
  },
  {
   "cell_type": "code",
   "execution_count": 11,
   "metadata": {},
   "outputs": [
    {
     "data": {
      "text/plain": [
       "2"
      ]
     },
     "execution_count": 11,
     "metadata": {},
     "output_type": "execute_result"
    }
   ],
   "source": [
    "AAAA = [0, 0, 0, 0, 0, 1, 0, 0, 0, 0]\n",
    "a.task1(10, AAAA)"
   ]
  },
  {
   "cell_type": "code",
   "execution_count": 17,
   "metadata": {},
   "outputs": [
    {
     "data": {
      "text/plain": [
       "7"
      ]
     },
     "execution_count": 17,
     "metadata": {},
     "output_type": "execute_result"
    }
   ],
   "source": [
    "#################### task2 ########\n",
    "from collections import defaultdict\n",
    "\n",
    "def task2(A):\n",
    "    n = len(A)\n",
    "    dd = defaultdict(int)\n",
    "    for i in A:\n",
    "        dd[i] += 1\n",
    "    for k, v in dd.items():\n",
    "        if v % 2 == 1:\n",
    "            return k\n",
    "    pass\n",
    "\n",
    "A = [9, 3, 9, 3, 9, 7, 9]\n",
    "task2(A)"
   ]
  },
  {
   "cell_type": "code",
   "execution_count": 8,
   "metadata": {},
   "outputs": [
    {
     "name": "stdout",
     "output_type": "stream",
     "text": [
      "j 1 stack1 [3]\n",
      "j 2 stack1 [3]\n",
      "j 3 stack1 [3]\n",
      "j 4 stack1 []\n"
     ]
    },
    {
     "data": {
      "text/plain": [
       "2"
      ]
     },
     "execution_count": 8,
     "metadata": {},
     "output_type": "execute_result"
    }
   ],
   "source": [
    "############### task3 #################\n",
    "def task3(A,B):\n",
    "    j = 0\n",
    "    n = len(A)\n",
    "    ans = n\n",
    "    while B[j] != 1:\n",
    "        j += 1\n",
    "    stack1 = []\n",
    "    stack0 = []\n",
    "    while j < n:\n",
    "        while j < n and B[j] == 1:\n",
    "            stack1.append(A[j])\n",
    "            print(\"j\", j, \"stack1\", stack1)\n",
    "            j += 1\n",
    "        while j < n and B[j] == 0:\n",
    "            l = len(stack1)\n",
    "            if l > 0 and A[j] > stack1[l-1]:\n",
    "                stack1.pop()\n",
    "                print(\"j\", j, \"stack1\", stack1)\n",
    "                ans -= 1\n",
    "            else:\n",
    "                l = len(stack1)\n",
    "                if l > 0:\n",
    "                    ans -= 1\n",
    "                    print(\"j\", j, \"stack1\", stack1)\n",
    "                j += 1\n",
    "    return ans\n",
    "\n",
    "A = [4, 3, 2, 1, 5]\n",
    "B = [0, 1, 0, 0, 0]\n",
    "task3(A,B)"
   ]
  },
  {
   "cell_type": "code",
   "execution_count": 9,
   "metadata": {
    "scrolled": true
   },
   "outputs": [
    {
     "name": "stdout",
     "output_type": "stream",
     "text": [
      "j 0 stack1 [6]\n",
      "j 1 stack1 [6, 10]\n",
      "j 2 stack1 [6, 10, 7]\n",
      "j 3 stack1 [6, 10]\n",
      "j 3 stack1 [6, 10]\n",
      "j 4 stack1 [6, 10, 9]\n",
      "j 5 stack1 [6, 10, 9, 9]\n",
      "j 6 stack1 [6, 10, 9, 9]\n",
      "j 7 stack1 [6, 10, 9, 9, 6]\n",
      "j 8 stack1 [6, 10, 9, 9, 6]\n"
     ]
    },
    {
     "data": {
      "text/plain": [
       "5"
      ]
     },
     "execution_count": 9,
     "metadata": {},
     "output_type": "execute_result"
    }
   ],
   "source": [
    "A = [6, 10, 7, 8, 9, 9, 1, 6, 5]\n",
    "B = [1, 1, 1, 0, 1, 1, 0, 1, 0]\n",
    "task3(A,B)"
   ]
  },
  {
   "cell_type": "code",
   "execution_count": null,
   "metadata": {},
   "outputs": [],
   "source": []
  }
 ],
 "metadata": {
  "kernelspec": {
   "display_name": "Python 3",
   "language": "python",
   "name": "python3"
  },
  "language_info": {
   "codemirror_mode": {
    "name": "ipython",
    "version": 3
   },
   "file_extension": ".py",
   "mimetype": "text/x-python",
   "name": "python",
   "nbconvert_exporter": "python",
   "pygments_lexer": "ipython3",
   "version": "3.8.5"
  }
 },
 "nbformat": 4,
 "nbformat_minor": 4
}
